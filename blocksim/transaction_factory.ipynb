{
 "cells": [
  {
   "cell_type": "code",
   "execution_count": null,
   "metadata": {},
   "outputs": [],
   "source": [
    "import string\n",
    "from random import randint, choices\n",
    "from blocksim.models.transaction import Transaction\n",
    "from blocksim.models.ethereum.transaction import Transaction as ETHTransaction\n",
    "\n"
   ]
  },
  {
   "cell_type": "code",
   "execution_count": null,
   "metadata": {},
   "outputs": [],
   "source": [
    "\n",
    "class TransactionFactory:\n",
    "    \"\"\" Responsible to create batches of random transactions. Depending on the blockchain\n",
    "    being simulated, transaction factory will create transactions according to the\n",
    "    transaction model. Moreover, the created transactions will be broadcasted when simulation\n",
    "    is running by a random node on a list. Additionally, the user needs to specify the\n",
    "    number of batches, number of transactions per batch and the interval in seconds between each batch.\n",
    "    \"\"\"\n",
    "\n",
    "    def __init__(self, world):\n",
    "        self._world = world\n",
    "\n",
    "    def broadcast(self, number_of_batches, transactions_per_batch, interval, nodes_list):\n",
    "        for i in range(number_of_batches):\n",
    "            transactions = []\n",
    "            for _i in range(transactions_per_batch):\n",
    "                # Generate a random string to a transaction be distinct from others\n",
    "                rand_sign = ''.join(\n",
    "                    choices(string.ascii_letters + string.digits, k=20))\n",
    "                if self._world.blockchain == 'bitcoin':\n",
    "                    tx = Transaction('address', 'address', 140, rand_sign, 50)\n",
    "                elif self._world.blockchain == 'ethereum':\n",
    "                    gas_limit = self._world.env.config['ethereum']['tx_gas_limit']\n",
    "                    tx = ETHTransaction('address', 'address',\n",
    "                                        140, rand_sign, i, 2, gas_limit)\n",
    "                transactions.append(tx)\n",
    "            self._world.env.data['created_transactions'] += len(transactions)\n",
    "            # Choose a random node to broadcast the transaction\n",
    "            self._world.env.process(\n",
    "                nodes_list[randint(0, len(nodes_list)-1)].broadcast_transactions(transactions))\n",
    "            self._world.env.process(self._set_interval(interval))\n",
    "\n",
    "    def _set_interval(self, interval):\n",
    "        yield self._world.env.timeout(interval)\n"
   ]
  }
 ],
 "metadata": {
  "language_info": {
   "name": "python"
  },
  "orig_nbformat": 4
 },
 "nbformat": 4,
 "nbformat_minor": 2
}
