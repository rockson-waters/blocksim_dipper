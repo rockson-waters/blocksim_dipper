{
 "cells": [
  {
   "cell_type": "code",
   "execution_count": 5,
   "metadata": {},
   "outputs": [
    {
     "name": "stdout",
     "output_type": "stream",
     "text": [
      "{1: 'Robert', 2: 'Nana', 3: 'Seth'}\n",
      "{1: 'Robert', 2: 'Nana', 3: 'Andrew', 4: 'Jack'}\n",
      "{1: 'Robert', 2: 'Nana', 3: 'Andrew', 4: 'Jack'}\n"
     ]
    }
   ],
   "source": [
    "a = {}\n",
    "a[1] = 'Robert'\n",
    "a[2] = 'Nana'\n",
    "a.update({3:'Seth'})\n",
    "\n",
    "c = {}\n",
    "c[3] = 'Andrew'\n",
    "c[4] = 'Jack'\n",
    "\n",
    "b = {}\n",
    "b.update(a)\n",
    "print(b)\n",
    "b.update(c)\n",
    "print(b)\n",
    "\n",
    "b.update({})\n",
    "print(b)"
   ]
  },
  {
   "cell_type": "code",
   "execution_count": 16,
   "metadata": {},
   "outputs": [
    {
     "data": {
      "text/plain": [
       "{1: 'Robert', 2: 'Nana', 3: 'Andrew', 4: 'Jack'}"
      ]
     },
     "execution_count": 16,
     "metadata": {},
     "output_type": "execute_result"
    }
   ],
   "source": [
    "d = list(b.keys())\n",
    "s = sorted(b.items(), key=lambda x:x[0], reverse=False)\n",
    "d = dict(s)\n"
   ]
  },
  {
   "cell_type": "code",
   "execution_count": 32,
   "metadata": {},
   "outputs": [
    {
     "data": {
      "text/plain": [
       "False"
      ]
     },
     "execution_count": 32,
     "metadata": {},
     "output_type": "execute_result"
    }
   ],
   "source": [
    "type((3,1)) is int"
   ]
  }
 ],
 "metadata": {
  "kernelspec": {
   "display_name": "Python 3.8.10 64-bit",
   "language": "python",
   "name": "python3"
  },
  "language_info": {
   "codemirror_mode": {
    "name": "ipython",
    "version": 3
   },
   "file_extension": ".py",
   "mimetype": "text/x-python",
   "name": "python",
   "nbconvert_exporter": "python",
   "pygments_lexer": "ipython3",
   "version": "3.8.10"
  },
  "orig_nbformat": 4,
  "vscode": {
   "interpreter": {
    "hash": "916dbcbb3f70747c44a77c7bcd40155683ae19c65e1c03b4aa3499c5328201f1"
   }
  }
 },
 "nbformat": 4,
 "nbformat_minor": 2
}
