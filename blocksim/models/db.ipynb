{
 "cells": [
  {
   "cell_type": "code",
   "execution_count": null,
   "metadata": {},
   "outputs": [],
   "source": [
    "class BaseDB:\n",
    "    def __init__(self):\n",
    "        self.db = {}\n",
    "\n",
    "    def get(self, key):\n",
    "        return self.db[key]\n",
    "\n",
    "    def put(self, key, value):\n",
    "        self.db[key] = value\n",
    "\n",
    "    def delete(self, key):\n",
    "        del self.db[key]\n",
    "\n",
    "    def _has_key(self, key):\n",
    "        return key in self.db\n",
    "\n",
    "    def __contains__(self, key):\n",
    "        return self._has_key(key)\n",
    "\n",
    "    def __eq__(self, other):\n",
    "        return isinstance(other, self.__class__) and self.db == other.db\n"
   ]
  }
 ],
 "metadata": {
  "language_info": {
   "name": "python"
  },
  "orig_nbformat": 4
 },
 "nbformat": 4,
 "nbformat_minor": 2
}
