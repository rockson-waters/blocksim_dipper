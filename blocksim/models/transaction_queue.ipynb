{
 "cells": [
  {
   "cell_type": "code",
   "execution_count": null,
   "metadata": {},
   "outputs": [],
   "source": [
    "from collections import deque\n",
    "from blocksim.utils import time\n"
   ]
  },
  {
   "cell_type": "code",
   "execution_count": null,
   "metadata": {},
   "outputs": [],
   "source": [
    "\n",
    "class TransactionQueue():\n",
    "    def __init__(self, env, node, consensus):\n",
    "        self._env = env\n",
    "        self._node = node\n",
    "        self._consensus = consensus\n",
    "        self._transaction_queue = deque([])\n",
    "        key = f'{node.address}_number_of_transactions_queue'\n",
    "        self._env.data[key] = 0\n",
    "\n",
    "    def put(self, tx):\n",
    "        key = f'{self._node.address}_number_of_transactions_queue'\n",
    "        self._env.data[key] += 1\n",
    "        self._transaction_queue.append(tx)\n",
    "\n",
    "    def get(self):\n",
    "        # TODO: A delay to retrieve a transaction from the Queue\n",
    "        return self._transaction_queue.popleft()\n",
    "\n",
    "    def is_empty(self):\n",
    "        return len(self._transaction_queue) == 0\n",
    "\n",
    "    def size(self):\n",
    "        return len(self._transaction_queue)\n"
   ]
  }
 ],
 "metadata": {
  "language_info": {
   "name": "python"
  },
  "orig_nbformat": 4
 },
 "nbformat": 4,
 "nbformat_minor": 2
}
