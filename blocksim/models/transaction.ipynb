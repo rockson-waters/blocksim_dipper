{
 "cells": [
  {
   "cell_type": "code",
   "execution_count": null,
   "metadata": {},
   "outputs": [],
   "source": [
    "from blocksim.utils import keccak_256, encode_hex\n"
   ]
  },
  {
   "cell_type": "code",
   "execution_count": null,
   "metadata": {},
   "outputs": [],
   "source": [
    "\n",
    "class Transaction:\n",
    "    \"\"\" Defines a basic transaction model.\n",
    "\n",
    "    We can define a simple and basic model of a transaction by defining the following\n",
    "    parameters:\n",
    "\n",
    "    :param to: destination address\n",
    "    :param sender: sender address\n",
    "    :param value: amount to send to destination\n",
    "    :param signature: sender signature\n",
    "    :param fee: a fee destinated to the node that will insert the transaction on the chain\n",
    "    \"\"\"\n",
    "\n",
    "    def __init__(self,\n",
    "                 to,\n",
    "                 sender,\n",
    "                 value,\n",
    "                 signature,\n",
    "                 fee):\n",
    "        self.to = to\n",
    "        self.sender = sender\n",
    "        self.value = value\n",
    "        self.signature = signature\n",
    "        self.fee = fee\n",
    "\n",
    "    @property\n",
    "    def hash(self):\n",
    "        \"\"\"The transaction hash using Keccak 256\"\"\"\n",
    "        return encode_hex(keccak_256(str(self).encode('utf-8')))\n",
    "\n",
    "    def __repr__(self):\n",
    "        \"\"\"Returns a unambiguous representation of the transaction\"\"\"\n",
    "        return f'<{self.__class__.__name__}({self.hash})>'\n",
    "\n",
    "    def __str__(self):\n",
    "        \"\"\"Returns a readable representation of the transaction\"\"\"\n",
    "        return f'''<{self.__class__.__name__}(to:{self.to} sender:{self.sender} value:{self.value} signature:{self.signature} fee:{self.fee})>'''\n",
    "\n",
    "    def __eq__(self, other):\n",
    "        \"\"\"Two transactions are equal iff they have the same hash.\"\"\"\n",
    "        return isinstance(other, self.__class__) and self.hash == other.hash\n",
    "\n",
    "    def __ne__(self, other):\n",
    "        return not self.__eq__(other)\n",
    "\n",
    "    def __lt__(self, other):\n",
    "        return isinstance(other, self.__class__) and self.fee < other.fee\n",
    "\n",
    "    def __le__(self, other):\n",
    "        return isinstance(other, self.__class__) and self.fee <= other.fee\n",
    "\n",
    "    def __gt__(self, other):\n",
    "        return isinstance(other, self.__class__) and self.fee > other.fee\n",
    "\n",
    "    def __ge__(self, other):\n",
    "        return isinstance(other, self.__class__) and self.fee >= other.fee\n"
   ]
  }
 ],
 "metadata": {
  "language_info": {
   "name": "python"
  },
  "orig_nbformat": 4
 },
 "nbformat": 4,
 "nbformat_minor": 2
}
