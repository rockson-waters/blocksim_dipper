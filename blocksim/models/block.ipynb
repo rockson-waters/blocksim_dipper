{
 "cells": [
  {
   "cell_type": "code",
   "execution_count": null,
   "metadata": {},
   "outputs": [],
   "source": [
    "import time\n",
    "from datetime import datetime\n",
    "from blocksim.utils import keccak_256, encode_hex\n"
   ]
  },
  {
   "cell_type": "code",
   "execution_count": null,
   "metadata": {},
   "outputs": [],
   "source": [
    "\n",
    "class BlockHeader:\n",
    "    \"\"\" Defines a basic BlockHeader model.\n",
    "\n",
    "    In this first version of the simulator we do not simulate transactions merkle trees.\n",
    "\n",
    "    :param str prevhash: the hash of the previous block\n",
    "    :param int number: the number of ancestors of this block (0 for the genesis block)\n",
    "    :param int timestamp: a UNIX timestamp\n",
    "    :param str coinbase: coinbase address of the block miner, in this simulation we include the node address\n",
    "    :param int difficulty: the blocks difficulty\n",
    "    :param str nonce: a nonce constituting a Proof-of-Work\n",
    "    \"\"\"\n",
    "\n",
    "    def __init__(self,\n",
    "                 prevhash=encode_hex(b'\\x00' * 32),\n",
    "                 number=0,\n",
    "                 timestamp=int(time.time()),\n",
    "                 coinbase=encode_hex(b'\\x00' * 20),\n",
    "                 difficulty=100000,\n",
    "                 nonce=''):\n",
    "        self.prevhash = prevhash\n",
    "        self.number = number\n",
    "        self.timestamp = timestamp\n",
    "        self.coinbase = coinbase\n",
    "        self.difficulty = difficulty\n",
    "        self.nonce = nonce\n",
    "\n",
    "    @property\n",
    "    def hash(self):\n",
    "        \"\"\"The block header hash\"\"\"\n",
    "        return encode_hex(keccak_256(str(self).encode('utf-8')))\n",
    "\n",
    "    def __repr__(self):\n",
    "        \"\"\"Returns a unambiguous representation of the block header\"\"\"\n",
    "        return f'<{self.__class__.__name__}(#{self.number} {self.hash})>'\n",
    "\n",
    "    def __str__(self):\n",
    "        \"\"\"Returns a readable representation of the block\"\"\"\n",
    "        timestamp = datetime.utcfromtimestamp(\n",
    "            self.timestamp).strftime('%m-%d %H:%M:%S')\n",
    "        return f'<{self.__class__.__name__}(#{self.number} prevhash:{self.prevhash[:8]} timestamp:{timestamp} coinbase:{self.coinbase} difficulty:{self.difficulty})>'\n",
    "\n",
    "    def __eq__(self, other):\n",
    "        \"\"\"Two blocks are equal iff they have the same hash.\"\"\"\n",
    "        return isinstance(other, self.__class__) and self.hash == other.hash\n",
    "\n",
    "    def __ne__(self, other):\n",
    "        return not self.__eq__(other)\n",
    "\n",
    "    def __hash__(self):\n",
    "        return self.hash\n"
   ]
  },
  {
   "cell_type": "code",
   "execution_count": null,
   "metadata": {},
   "outputs": [],
   "source": [
    "\n",
    "class Block:\n",
    "    \"\"\" Defines the Block model.\n",
    "\n",
    "    :param header: the block header\n",
    "    :param transactions: a list of transactions\n",
    "    \"\"\"\n",
    "\n",
    "    def __init__(self, header: BlockHeader, transactions=None):\n",
    "        self.header = header\n",
    "        self.transactions = transactions\n",
    "\n",
    "    @property\n",
    "    def transaction_count(self):\n",
    "        return len(self.transactions)\n"
   ]
  }
 ],
 "metadata": {
  "language_info": {
   "name": "python"
  },
  "orig_nbformat": 4
 },
 "nbformat": 4,
 "nbformat_minor": 2
}
