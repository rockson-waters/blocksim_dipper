{
 "cells": [
  {
   "cell_type": "code",
   "execution_count": null,
   "metadata": {},
   "outputs": [],
   "source": [
    "from blocksim.utils import encode_hex\n",
    "from blocksim.models.block import BlockHeader as BaseBlockHeader\n",
    "from blocksim.models.block import Block as BaseBlock\n",
    "\n"
   ]
  },
  {
   "cell_type": "code",
   "execution_count": null,
   "metadata": {},
   "outputs": [],
   "source": [
    "\n",
    "class BlockHeader(BaseBlockHeader):\n",
    "    \"\"\" Defines the BlockHeader model for the Ethereum.\n",
    "\n",
    "    In this first version of the simulator we do not simulate accounts, transactions merkle trees, uncles blocks, states and receipts\n",
    "\n",
    "    :param str prevhash: the hash of the previous block\n",
    "    :param int number: the number of ancestors of this block (0 for the genesis block)\n",
    "    :param int timestamp: a UNIX timestamp\n",
    "    :param str coinbase: coinbase address of the block miner, in this simulation we include the node address\n",
    "    :param int difficulty: the blocks difficulty\n",
    "    :param int gas_limit: the block's gas limit\n",
    "    :param int gas_used: the total amount of gas used by all transactions in this block\n",
    "    :param str nonce: a nonce constituting a Proof-of-Work\n",
    "    \"\"\"\n",
    "\n",
    "    def __init__(self,\n",
    "                 prevhash=encode_hex(b'\\x00' * 32),\n",
    "                 number=0,\n",
    "                 timestamp=0,\n",
    "                 coinbase=encode_hex(b'\\x00' * 20),\n",
    "                 difficulty=100000,\n",
    "                 gas_limit=3000000,\n",
    "                 gas_used=0,\n",
    "                 nonce=''):\n",
    "        super().__init__(prevhash, number, timestamp, coinbase, difficulty, nonce)\n",
    "        self.gas_limit = gas_limit\n",
    "        self.gas_used = gas_used\n"
   ]
  },
  {
   "cell_type": "code",
   "execution_count": null,
   "metadata": {},
   "outputs": [],
   "source": [
    "\n",
    "class Block(BaseBlock):\n",
    "    def __init__(self, header: BlockHeader, transactions=None):\n",
    "        super().__init__(header, transactions)\n"
   ]
  }
 ],
 "metadata": {
  "language_info": {
   "name": "python"
  },
  "orig_nbformat": 4
 },
 "nbformat": 4,
 "nbformat_minor": 2
}
