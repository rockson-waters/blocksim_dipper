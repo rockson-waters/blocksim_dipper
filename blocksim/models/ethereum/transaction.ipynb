{
 "cells": [
  {
   "cell_type": "code",
   "execution_count": null,
   "metadata": {},
   "outputs": [],
   "source": [
    "from blocksim.models.transaction import Transaction as BaseTransaction\n",
    "from blocksim.utils import keccak_256, encode_hex\n"
   ]
  },
  {
   "cell_type": "code",
   "execution_count": null,
   "metadata": {},
   "outputs": [],
   "source": [
    "\n",
    "class Transaction(BaseTransaction):\n",
    "    \"\"\" Defines a simple transaction model for the Ethereum.\n",
    "\n",
    "    :param to: destination address\n",
    "    :param sender: sender address\n",
    "    :param value: amount to send to destination\n",
    "    :param signature: sender signature\n",
    "    :param int nonce: sequence number, issued by the originating EOA, used to prevent message replay\n",
    "    :param gasprice: price of gas (in wei) the originator is willing to pay\n",
    "    :param startgas: or gas limit is the maximum amount of gas the originator is willing to pay\n",
    "\n",
    "    \"\"\"\n",
    "\n",
    "    def __init__(self,\n",
    "                 to,\n",
    "                 sender,\n",
    "                 value,\n",
    "                 signature,\n",
    "                 nonce,\n",
    "                 gasprice,\n",
    "                 startgas):\n",
    "        # In Ethereum the fee is calculated as following:\n",
    "        fee = gasprice * startgas\n",
    "        super().__init__(to, sender, value, signature, fee)\n",
    "        self.nonce = nonce\n",
    "        self.gasprice = gasprice\n",
    "        self.startgas = startgas\n",
    "\n",
    "    @property\n",
    "    def hash(self):\n",
    "        \"\"\"The transaction hash calculated using Keccak 256\"\"\"\n",
    "        return encode_hex(keccak_256(str(self).encode('utf-8')))\n",
    "\n",
    "    def __lt__(self, other):\n",
    "        return isinstance(other, self.__class__) and self.gasprice < other.gasprice\n",
    "\n",
    "    def __le__(self, other):\n",
    "        return isinstance(other, self.__class__) and self.gasprice <= other.gasprice\n",
    "\n",
    "    def __gt__(self, other):\n",
    "        return isinstance(other, self.__class__) and self.gasprice > other.gasprice\n",
    "\n",
    "    def __ge__(self, other):\n",
    "        return isinstance(other, self.__class__) and self.gasprice >= other.gasprice\n"
   ]
  }
 ],
 "metadata": {
  "language_info": {
   "name": "python"
  },
  "orig_nbformat": 4
 },
 "nbformat": 4,
 "nbformat_minor": 2
}
