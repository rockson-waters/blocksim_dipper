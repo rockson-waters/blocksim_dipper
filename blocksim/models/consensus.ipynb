{
 "cells": [
  {
   "cell_type": "code",
   "execution_count": null,
   "metadata": {},
   "outputs": [],
   "source": [
    "from blocksim.utils import get_random_values\n"
   ]
  },
  {
   "cell_type": "code",
   "execution_count": null,
   "metadata": {},
   "outputs": [],
   "source": [
    "\n",
    "class Consensus:\n",
    "    \"\"\" Defines the consensus model.\n",
    "\n",
    "    The goal of this model is to simulate the rules that a node needs to follow to reach consensus\n",
    "    between his peers.\n",
    "\n",
    "    In order to simplify, we only take into account the duration of block and transaction validation,\n",
    "    given by the user as simulation input.\n",
    "    \"\"\"\n",
    "\n",
    "    def __init__(self, env):\n",
    "        self.env = env\n",
    "\n",
    "    def calc_difficulty(self, parent, timestamp):\n",
    "        \"\"\"Difficulty adjustment algorithm for the simulator.\n",
    "        A block that is created in less time, have more difficulty associated\"\"\"\n",
    "        timestamp_diff = timestamp - parent.header.timestamp\n",
    "        return int(parent.header.difficulty + timestamp_diff)\n",
    "\n",
    "    def validate_block(self, block=None):\n",
    "        \"\"\" Simulates the block validation.\n",
    "        For now, it only applies a delay in simulation, corresponding to previous measurements\"\"\"\n",
    "        delay = round(get_random_values(\n",
    "            self.env.delays['block_validation'])[0], 4)\n",
    "        return delay\n",
    "\n",
    "    def validate_transaction(self, tx=None):\n",
    "        \"\"\" Simulates the transaction validation.\n",
    "        For now, it only calculates a delay in simulation, corresponding to previous measurements\"\"\"\n",
    "        delay = round(get_random_values(\n",
    "            self.env.delays['tx_validation'])[0], 4)\n",
    "        return delay\n"
   ]
  }
 ],
 "metadata": {
  "language_info": {
   "name": "python"
  },
  "orig_nbformat": 4
 },
 "nbformat": 4,
 "nbformat_minor": 2
}
